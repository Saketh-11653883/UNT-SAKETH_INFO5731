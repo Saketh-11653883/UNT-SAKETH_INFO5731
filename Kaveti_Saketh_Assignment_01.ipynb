{
  "cells": [
    {
      "cell_type": "markdown",
      "metadata": {
        "id": "view-in-github",
        "colab_type": "text"
      },
      "source": [
        "<a href=\"https://colab.research.google.com/github/Saketh-11653883/UNT-SAKETH_INFO5731/blob/main/Kaveti_Saketh_Assignment_01.ipynb\" target=\"_parent\"><img src=\"https://colab.research.google.com/assets/colab-badge.svg\" alt=\"Open In Colab\"/></a>"
      ]
    },
    {
      "cell_type": "markdown",
      "metadata": {
        "id": "Ryk8D1Q4Wsrp"
      },
      "source": [
        "# **INFO5731 Assignment One**"
      ]
    },
    {
      "cell_type": "markdown",
      "metadata": {
        "id": "qcP6re2g5A5r"
      },
      "source": [
        "This assignment includes range of programming tasks and data analysis exercises, aiming to enhance your Python skills and proficiency in string manipulation, numerical computations, and data science. Follow the instructions carefully and design well-structured Python programs to address each question.\n",
        "\n",
        "Late Submission will have a penalty of 10% reduction for each day after the deadline."
      ]
    },
    {
      "cell_type": "markdown",
      "metadata": {
        "id": "JkzR8cFAyGik"
      },
      "source": [
        "# Question 1 (10 points).\n",
        "\n",
        "The formula that describes the volume V of a hemisphere with radius r is the following:\n",
        "\n",
        "$ V=\\frac{2}{3}\\ast\\ \\pi\\ast\\ r^3 $\n",
        "\n",
        "Write a program to calculate the value of V when r is in the range of even numbers from 1-20. Output the result in the following format:\n",
        "\n",
        "\tr\tV\n",
        "\t2\t…\n",
        "\t4\t…\n",
        "\t6\t…\n",
        "\t.\n",
        "\t.\n",
        "\t.\n",
        "\t20\t…\n"
      ]
    },
    {
      "cell_type": "code",
      "execution_count": 7,
      "metadata": {
        "colab": {
          "base_uri": "https://localhost:8080/"
        },
        "id": "jDyTKYs-yGit",
        "outputId": "6fbc7379-b441-4431-88c0-93194a8b852a"
      },
      "outputs": [
        {
          "output_type": "stream",
          "name": "stdout",
          "text": [
            "r   v\n",
            "2   16.76\n",
            "4   134.04\n",
            "6   452.39\n",
            "8   1072.33\n",
            "10   2094.40\n",
            "12   3619.11\n",
            "14   5747.02\n",
            "16   8578.64\n",
            "18   12214.51\n",
            "20   16755.16\n"
          ]
        }
      ],
      "source": [
        "# Your code here\n",
        "import math\n",
        "\n",
        "def cal_hemisphere_vol(radius):\n",
        "    V_KS = (2/3) * math.pi * radius**3\n",
        "    return V_KS\n",
        "\n",
        "# Output header\n",
        "print(\"r   v\")\n",
        "\n",
        "# Calculate and display volume for even values of r in the range 1-20\n",
        "for radius in range(2, 21, 2):\n",
        "    V_KS = cal_hemisphere_vol(radius)\n",
        "    print(f\"{radius}   {V_KS:.2f}\")\n"
      ]
    },
    {
      "cell_type": "markdown",
      "metadata": {
        "id": "90_NR8c5XGWc"
      },
      "source": [
        "# Question 2 (20 points)\n",
        "\n",
        "(a) Write a Python program to generate a sequence of 12 random numbers falling within the range of 50 to 150.\n",
        "\n",
        "(b) Arrange the generated numbers in ascending order. Display the sorted list.\n",
        "\n",
        "(c) Extend the program to arrange the numbers in descending order as well. Present the sorted list accordingly.\n",
        "\n",
        "(d) Compute and output the average of the entire group of generated numbers.\n",
        "\n",
        "(e) Enhance the program to calculate and display the average of the first 6 numbers from both the ascending and descending sorted lists."
      ]
    },
    {
      "cell_type": "code",
      "execution_count": 9,
      "metadata": {
        "colab": {
          "base_uri": "https://localhost:8080/"
        },
        "id": "5QX6bJjGWXY9",
        "outputId": "49ef6ffe-ea49-4c60-a9da-3fe382ae75f9"
      },
      "outputs": [
        {
          "output_type": "stream",
          "name": "stdout",
          "text": [
            "Original Sequence: [81, 67, 130, 86, 125, 127, 140, 66, 117, 69, 103, 97]\n",
            "Ascending Order: [66, 67, 69, 81, 86, 97, 103, 117, 125, 127, 130, 140]\n",
            "Descending Order: [140, 130, 127, 125, 117, 103, 97, 86, 81, 69, 67, 66]\n",
            "Average of All Numbers: 100.66666666666667\n",
            "Average of First 6 (Ascending): 77.66666666666667\n",
            "Average of First 6 (Descending): 123.66666666666667\n"
          ]
        }
      ],
      "source": [
        "# Write code for each of the sub parts with proper comments.\n",
        "import random\n",
        "# Generate a sequence of 12 random numbers within the range of 50 to 150\n",
        "random_num_KS = [random.randint(50, 150) for _ in range(12)]\n",
        "\n",
        "# Display the original sequence\n",
        "print(\"Original Sequence:\", random_num_KS)\n",
        "\n",
        "# (b) Arrange the numbers in ascending order and display the sorted list\n",
        "ascending_sorted = sorted(random_num_KS)\n",
        "print(\"Ascending Order:\", ascending_sorted)\n",
        "\n",
        "# (c) Arrange the numbers in descending order and display the sorted list\n",
        "descending_sorted = sorted(random_num_KS, reverse=True)\n",
        "print(\"Descending Order:\", descending_sorted)\n",
        "\n",
        "# (d) Compute and output the average of the entire group of generated numbers\n",
        "average_all = sum(random_num_KS) / len(random_num_KS)\n",
        "print(\"Average of All Numbers:\", average_all)\n",
        "\n",
        "# (e) Compute and display the average of the first 6 numbers from both sorted lists\n",
        "average_first_six_ascending = sum(ascending_sorted[:6]) / 6\n",
        "average_first_six_descending = sum(descending_sorted[:6]) / 6\n",
        "\n",
        "print(\"Average of First 6 (Ascending):\", average_first_six_ascending)\n",
        "print(\"Average of First 6 (Descending):\", average_first_six_descending)\n",
        "\n"
      ]
    },
    {
      "cell_type": "markdown",
      "metadata": {
        "id": "1F_PZdH9Sh49"
      },
      "source": [
        "# Question 3 (20 points).\n",
        "\n",
        "Create a Python program that encompasses various string manipulation task:\n",
        "\n",
        "(a) Prompt the user to input two sentences.\n",
        "\n",
        "(b) Transform each sentence into a list, where each element corresponds to a word in the sentence. For example, if the sentences are \"Hello, how are you doing today?\" and \"This is an example sentence for the program!\"\n",
        "\n",
        "The program should output:\n",
        "['Hello', ',', 'how', 'are', 'you', 'doing', 'today', '?', 'This', 'is', 'an', 'example', 'sentence', 'for', 'the', 'program', '!']\n",
        "\n",
        "(c) Compare the two sentences. Print out a list of words that occur in both sentences.\n",
        "\n",
        "(d) Remove any punctuation from the sentence and print the sanitized sentences. It should remove at least the following characters, but it can remove more: period(“.”), comma (“,”), semicolon (“;”), and colon (“:”).\n",
        "\n",
        "(e) Count the number of vowels in each of the sentences. Print out each vowel and the occurrences  in the each of the two sentences separately, such as:\n",
        "\n",
        "Sentence1: a:2, e:2, i:0, etc.\n",
        "Sentence2: a:1, e:2, i:2, etc.\n",
        "\n",
        "Design a well-structured Python program to execute these tasks efficiently."
      ]
    },
    {
      "cell_type": "code",
      "execution_count": 12,
      "metadata": {
        "colab": {
          "base_uri": "https://localhost:8080/"
        },
        "id": "Y0oOSlsOS0cq",
        "outputId": "0c18c94c-de49-4cfe-d380-352e587ce8bf"
      },
      "outputs": [
        {
          "output_type": "stream",
          "name": "stdout",
          "text": [
            "Enter the first sentence: Hi how are you\n",
            "Enter the second sentence: I am good and you\n",
            "Common Words: ['you']\n",
            "Sanitized Sentence 1: Hi how are you\n",
            "Sanitized Sentence 2: I am good and you\n",
            "Sentence 1: a:1, e:1, i:1, o:2, u:1\n",
            "Sentence 2: a:2, e:0, i:1, o:3, u:1\n"
          ]
        }
      ],
      "source": [
        "# Your code here\n",
        "\n",
        "import string\n",
        "\n",
        "def get_sentences():\n",
        "    sent1_KS = input(\"Enter the first sentence: \")\n",
        "    sent2_KS = input(\"Enter the second sentence: \")\n",
        "    return sent1_KS, sent2_KS\n",
        "\n",
        "def transform_to_list(sentence):\n",
        "    words = sentence.split()\n",
        "    return [word.strip(string.punctuation) for word in words]\n",
        "\n",
        "def compare_sentences(list1, list2):\n",
        "    common_words = set(list1) & set(list2)\n",
        "    return list(common_words)\n",
        "\n",
        "def remove_punctuation(sentence):\n",
        "    return sentence.translate(str.maketrans(\"\", \"\", string.punctuation))\n",
        "\n",
        "def count_vowels(sentence):\n",
        "    vowels = \"aeiou\"\n",
        "    count = {vowel: sentence.lower().count(vowel) for vowel in vowels}\n",
        "    return count\n",
        "\n",
        "def print_vowel_counts(sentence, count):\n",
        "    print(f\"{sentence}: {', '.join([f'{vowel}:{count[vowel]}' for vowel in count])}\")\n",
        "\n",
        "# (a) Prompt the user to input two sentences\n",
        "sentence1, sentence2 = get_sentences()\n",
        "\n",
        "# (b) Transform each sentence into a list of words\n",
        "list1 = transform_to_list(sentence1)\n",
        "list2 = transform_to_list(sentence2)\n",
        "\n",
        "# (c) Compare the two sentences\n",
        "common_words = compare_sentences(list1, list2)\n",
        "print(\"Common Words:\", common_words)\n",
        "\n",
        "# (d) Remove punctuation from the sentences\n",
        "sent1_chg_KS = remove_punctuation(sentence1)\n",
        "sent2_chg_KS = remove_punctuation(sentence2)\n",
        "print(\"Sanitized Sentence 1:\", sent1_chg_KS)\n",
        "print(\"Sanitized Sentence 2:\", sent2_chg_KS)\n",
        "\n",
        "# (e) Count the number of vowels in each sentence\n",
        "vowel_count1 = count_vowels(sent1_chg_KS)\n",
        "vowel_count2 = count_vowels(sent2_chg_KS)\n",
        "\n",
        "print_vowel_counts(\"Sentence 1\", vowel_count1)\n",
        "print_vowel_counts(\"Sentence 2\", vowel_count2)\n"
      ]
    },
    {
      "cell_type": "markdown",
      "metadata": {
        "id": "OP4-5qxAtInv"
      },
      "source": [
        "# Question 4 (20 Points)"
      ]
    },
    {
      "cell_type": "markdown",
      "metadata": {
        "id": "uzN4_hDptK9U"
      },
      "source": [
        "Design and implement a simple command-line calculator program. The program should handle both integers and floating-point numbers.\n",
        "\n",
        "(a) Write program that takes a mathematical expression as input and evaluates it. The program should support addition, subtraction, multiplication, and division.\n",
        "\n",
        "(b) Extend the calculator to handle parentheses in mathematical expressions. Implement the necessary logic to evaluate expressions with nested parentheses.\n",
        "\n",
        "(c) Enhance your calculator to include additional mathematical operations such as exponentiation, square root, and modulus.\n",
        "\n",
        "(d) Implement error handling in the calculator program. Handle cases such as division by zero and invalid input expressions. Provide meaningful error messages.\n",
        "\n",
        "(e) Implement a command to exit the calculator."
      ]
    },
    {
      "cell_type": "code",
      "source": [
        "# Your code here\n",
        "import math\n",
        "\n",
        "def evaluate_expression(expression):\n",
        "    try:\n",
        "        result = eval(expression)\n",
        "        return result\n",
        "    except ZeroDivisionError:\n",
        "        return \"Error: Division by zero\"\n",
        "    except SyntaxError:\n",
        "        return \"Error: Invalid input expression\"\n",
        "    except Exception as e:\n",
        "        return f\"Error: {str(e)}\"\n",
        "\n",
        "def main():\n",
        "    print(\"Simple Command-Line Calculator\\nType 'exit' to quit\")\n",
        "\n",
        "    while True:\n",
        "        user_input = input(\"Enter a mathematical expression: \")\n",
        "\n",
        "        # Implement a command to exit the calculator\n",
        "        if user_input.lower() == 'exit':\n",
        "            print(\"Exiting the calculator. Goodbye!\")\n",
        "            break\n",
        "\n",
        "        # Handle parentheses in mathematical expressions\n",
        "        while '(' in user_input:\n",
        "            opening_parenthesis = user_input.rfind('(')\n",
        "            closing_parenthesis = user_input.find(')', opening_parenthesis)\n",
        "            if opening_parenthesis != -1 and closing_parenthesis != -1:\n",
        "                sub_expression = user_input[opening_parenthesis + 1:closing_parenthesis]\n",
        "                result = evaluate_expression(sub_expression)\n",
        "                user_input = user_input[:opening_parenthesis] + str(result) + user_input[closing_parenthesis + 1:]\n",
        "\n",
        "        # Additional mathematical operations\n",
        "        user_input = user_input.replace(\"^\", \"**\")  # Exponentiation\n",
        "        user_input = user_input.replace(\"sqrt\", \"math.sqrt\")  # Square root\n",
        "        user_input = user_input.replace(\"%\", \"/100\")  # Modulus\n",
        "\n",
        "        # Evaluate the mathematical expression\n",
        "        result = evaluate_expression(user_input)\n",
        "        print(\"Result:\", result)\n",
        "\n",
        "if __name__ == \"__main__\":\n",
        "    main()\n"
      ],
      "metadata": {
        "colab": {
          "base_uri": "https://localhost:8080/"
        },
        "id": "6BVBqbOKPPyK",
        "outputId": "04404a62-4055-48a0-9438-a0d047b73f31"
      },
      "execution_count": 4,
      "outputs": [
        {
          "output_type": "stream",
          "name": "stdout",
          "text": [
            "Simple Command-Line Calculator\n",
            "Type 'exit' to quit\n",
            "Enter a mathematical expression: 2+2\n",
            "Result: 4\n",
            "Enter a mathematical expression: 2-1\n",
            "Result: 1\n",
            "Enter a mathematical expression: 2*2\n",
            "Result: 4\n",
            "Enter a mathematical expression: 2/2\n",
            "Result: 1.0\n",
            "Enter a mathematical expression: 2%2\n",
            "Result: 0.001996007984031936\n",
            "Enter a mathematical expression: 2^5\n",
            "Result: 32\n",
            "Enter a mathematical expression: 2 /100\n",
            "Result: 0.02\n",
            "Enter a mathematical expression: exit\n",
            "Exiting the calculator. Goodbye!\n"
          ]
        }
      ]
    },
    {
      "cell_type": "markdown",
      "metadata": {
        "id": "z3tBE7E-Xn5X"
      },
      "source": [
        "# Question 5 (30 points).\n",
        "\n",
        "In the field of Data Science, data is often formatted as a comma-delimited (CSV) file, where each line in a file corresponds to a field's value. Refer to Chapter 9 (p. 106) for more information on comma-delimited files.\n",
        "\n",
        "To answer this question, you will need to download the file [Assignment1_denton_housing.csv](https://raw.githubusercontent.com/unt-iialab/info5731-spring2022/main/assignments/Assignment1_denton_housing.csv) included with this assignment. The file contains statistics about housing in the city of Denton from 2008 to 2014. Write a program to implement the following questions.\n",
        "\n",
        "(a) (5 pts) Calculate the difference in the number of Occupied Housing Units from year to year and print it. The difference must be calculated for the consecutive years such as 2008-2009, 2009-2010 etc. Finally, print the values in the ascending order.\n",
        "\n",
        "(b) (5 pts) For all the years, calculate the percentage of housing units which are vacant an occupied. Print the results in the following format:\n",
        "\n",
        "Year Vacant Housing Units Occupied Housing Units\n",
        "\n",
        "    2008  30%   70%                          \n",
        "\t2009 ----- -----\n",
        "\t2010 ----- -----\n",
        "    2011 ----- -----\n",
        "\t2012 ----- -----\n",
        "    2013 ----- -----\n",
        "\t2014 ----- -----\n",
        "  \n",
        "  \n",
        "\n",
        "(c) (10 pts) Calculate and print the valued and years in which the highest number of housing units were vacant and occupied. Print the results in the following format:  \n",
        "\n",
        "                              Year\tValue\n",
        "\tVacant Housing Units\t  -----   -----\n",
        "\tOccupied Housing Units\t-----   -----\n",
        "\n",
        "(d) (10 pts) Calculate the harmonic mean of the total housing units and print it out. You can find the information about harmonic mean here: https://ncalculators.com/statistics/harmonic-mean-calculator.htm"
      ]
    },
    {
      "cell_type": "code",
      "source": [
        "import csv\n",
        "from collections import OrderedDict\n",
        "from scipy.stats import hmean\n",
        "\n",
        "def read_csv(file_path):\n",
        "    with open(file_path, 'r') as file:\n",
        "        reader = csv.DictReader(file)\n",
        "        return list(reader)\n",
        "\n",
        "def calculate_differences(data_dict):\n",
        "    differences = {}\n",
        "    for year in range(2009, 2015):\n",
        "        if 'Occupied Housing Units' in data_dict[year] and 'Occupied Housing Units' in data_dict[year - 1]:\n",
        "            difference = data_dict[year]['Occupied Housing Units'] - data_dict[year - 1]['Occupied Housing Units']\n",
        "            differences[f\"{year-1}-{year}\"] = difference\n",
        "    return differences\n",
        "\n",
        "def calculate_percentages(data_dict):\n",
        "    print(\"\\n(b) Percentage of Housing Units: Vacant and Occupied\")\n",
        "    print(\"Year\\tVacant Housing Units\\tOccupied Housing Units\")\n",
        "    for year in range(2008, 2015):\n",
        "        total_units = data_dict[year]['Total Housing Units']\n",
        "        vacant_units = data_dict[year]['Vacant Housing Units']\n",
        "        occupied_units = data_dict[year]['Occupied Housing Units']\n",
        "\n",
        "        vacant_percentage = (vacant_units / total_units) * 100\n",
        "        occupied_percentage = (occupied_units / total_units) * 100\n",
        "\n",
        "        print(f\"{year}\\t{vacant_percentage:.2f}%\\t\\t\\t{occupied_percentage:.2f}%\")\n",
        "\n",
        "def find_highest_values(data_dict):\n",
        "    print(\"\\n(c) Highest Number of Housing Units:\")\n",
        "    print(\"Year\\t\\tValue\")\n",
        "    highest_vacant_year = max(data_dict.keys(), key=lambda year: data_dict[year]['Vacant Housing Units'])\n",
        "    highest_occupied_year = max(data_dict.keys(), key=lambda year: data_dict[year]['Occupied Housing Units'])\n",
        "    print(f\"Vacant Housing Units\\t{highest_vacant_year}\\t{data_dict[highest_vacant_year]['Vacant Housing Units']}\")\n",
        "    print(f\"Occupied Housing Units\\t{highest_occupied_year}\\t{data_dict[highest_occupied_year]['Occupied Housing Units']}\")\n",
        "\n",
        "def calculate_harmonic_mean(dataset):\n",
        "    harmonic_mean = len(dataset) / sum(1/x for x in dataset)\n",
        "    return round(harmonic_mean, 4)\n",
        "\n",
        "# File path to 'Assignment1_denton_housing.csv'\n",
        "file_path = 'Assignment1_denton_housing.csv'\n",
        "\n",
        "# Read the CSV file\n",
        "data = read_csv(file_path)\n",
        "\n",
        "# Parse the data into a dictionary\n",
        "data_dict = OrderedDict()\n",
        "for row in data:\n",
        "    year = int(row['year'])\n",
        "    title_field = row['title_field']\n",
        "    value = int(row['value']) if row['value'].isdigit() else row['value']\n",
        "\n",
        "    if year not in data_dict:\n",
        "        data_dict[year] = {}\n",
        "\n",
        "    data_dict[year][title_field] = value\n",
        "\n",
        "# (a)\n",
        "differences = calculate_differences(data_dict)\n",
        "print(\"\\n(a) Differences in Occupied Housing Units from Year to Year:\")\n",
        "sorted_differences = sorted(differences.items(), key=lambda x: x[1])\n",
        "for item in sorted_differences:\n",
        "    print(f\"{item[0]}: {item[1]}\")\n",
        "\n",
        "# (b)\n",
        "calculate_percentages(data_dict)\n",
        "\n",
        "# (c)\n",
        "find_highest_values(data_dict)\n",
        "\n",
        "# (d)\n",
        "print(\"\\n(d) Harmonic Mean:\")\n",
        "dataset_for_harmonic_mean = [data_dict[year]['Total Housing Units'] for year in range(2008, 2015)]\n",
        "harmonic_mean_result = calculate_harmonic_mean(dataset_for_harmonic_mean)\n",
        "print(\"Harmonic Mean:\", harmonic_mean_result)\n"
      ],
      "metadata": {
        "colab": {
          "base_uri": "https://localhost:8080/"
        },
        "id": "Zj3sNA_iS5At",
        "outputId": "c48e0339-b7df-4de0-b0f2-6a413186c1c3"
      },
      "execution_count": 2,
      "outputs": [
        {
          "output_type": "stream",
          "name": "stdout",
          "text": [
            "\n",
            "(a) Differences in Occupied Housing Units from Year to Year:\n",
            "2008-2009: -795\n",
            "2010-2011: -303\n",
            "2011-2012: 1404\n",
            "2012-2013: 1565\n",
            "2013-2014: 2622\n",
            "2009-2010: 5091\n",
            "\n",
            "(b) Percentage of Housing Units: Vacant and Occupied\n",
            "Year\tVacant Housing Units\tOccupied Housing Units\n",
            "2008\t10.88%\t\t\t89.12%\n",
            "2009\t9.07%\t\t\t90.93%\n",
            "2010\t8.14%\t\t\t91.86%\n",
            "2011\t9.38%\t\t\t90.62%\n",
            "2012\t6.68%\t\t\t93.32%\n",
            "2013\t8.80%\t\t\t91.20%\n",
            "2014\t5.73%\t\t\t94.27%\n",
            "\n",
            "(c) Highest Number of Housing Units:\n",
            "Year\t\tValue\n",
            "Vacant Housing Units\t2008\t4483\n",
            "Occupied Housing Units\t2014\t46295\n",
            "\n",
            "(d) Harmonic Mean:\n",
            "Harmonic Mean: 44398.2854\n"
          ]
        }
      ]
    },
    {
      "cell_type": "markdown",
      "metadata": {
        "id": "q8BFCvWp32cf"
      },
      "source": [
        "# Mandatory Question\n",
        "\n",
        "Provide your thoughts on the assignment. What did you find challenging, and what aspects did you enjoy? Your opinion on the provided time to complete the assignment. Share any suggestions for improvement. Your feedback will be valuable for enhancing the learning experience."
      ]
    },
    {
      "cell_type": "markdown",
      "source": [
        "The assignment was not too hard but while doing the 5th question intially I faced some difficulty as it take the first row from the file as data instead of taking it as header. The time provided was suffiecient to complete the task. One small suggestion would be in canvas the dead line is showing as tuesday but when open the assignment it showed to complete it by sunday got little confused with deadline."
      ],
      "metadata": {
        "id": "PD9ZSx70i07M"
      }
    }
  ],
  "metadata": {
    "colab": {
      "provenance": [],
      "include_colab_link": true
    },
    "kernelspec": {
      "display_name": "Python 3 (ipykernel)",
      "language": "python",
      "name": "python3"
    },
    "language_info": {
      "codemirror_mode": {
        "name": "ipython",
        "version": 3
      },
      "file_extension": ".py",
      "mimetype": "text/x-python",
      "name": "python",
      "nbconvert_exporter": "python",
      "pygments_lexer": "ipython3",
      "version": "3.9.12"
    }
  },
  "nbformat": 4,
  "nbformat_minor": 0
}
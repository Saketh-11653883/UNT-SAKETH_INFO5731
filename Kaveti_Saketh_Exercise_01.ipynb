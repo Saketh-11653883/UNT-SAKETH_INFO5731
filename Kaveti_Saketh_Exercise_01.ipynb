{
  "cells": [
    {
      "cell_type": "markdown",
      "metadata": {
        "id": "view-in-github",
        "colab_type": "text"
      },
      "source": [
        "<a href=\"https://colab.research.google.com/github/Saketh-11653883/UNT-SAKETH_INFO5731/blob/main/Kaveti_Saketh_Exercise_01.ipynb\" target=\"_parent\"><img src=\"https://colab.research.google.com/assets/colab-badge.svg\" alt=\"Open In Colab\"/></a>"
      ]
    },
    {
      "cell_type": "markdown",
      "metadata": {
        "id": "DymRJbxDBCnf"
      },
      "source": [
        "# **This first In-class-exercise cover a variety of fundamental concepts in Python and are designed to help individuals improve their coding skills and problem-solving abilities.**\n",
        "\n",
        "The submission is due on 01/31/2024 11:59 PM. This submission is worth 40 points in total.\n"
      ]
    },
    {
      "cell_type": "markdown",
      "source": [
        "(1) Write a Python program that  prompts the user to input the length and width of a rectangle, and then calculates and displays the area of the rectangle."
      ],
      "metadata": {
        "id": "FBKvD6O_TY6e"
      }
    },
    {
      "cell_type": "code",
      "source": [
        "# write your answer here\n",
        "# Get the length and width from the user\n",
        "length_SK = float(input(\"Enter the length of the rectangle: \"))\n",
        "width_SK = float(input(\"Enter the width of the rectangle: \"))\n",
        "\n",
        "# Calculate the area of the rectangle\n",
        "area_SK = length_SK * width_SK\n",
        "\n",
        "# Display the result\n",
        "print(f\"The area of the rectangle with length {length_SK} and width {width_SK} is: {area_SK}\")\n"
      ],
      "metadata": {
        "id": "cikVKDXdTbzE",
        "colab": {
          "base_uri": "https://localhost:8080/"
        },
        "outputId": "bfc25714-6ae7-4ba9-a0c9-a7b9ff8d4186"
      },
      "execution_count": null,
      "outputs": [
        {
          "output_type": "stream",
          "name": "stdout",
          "text": [
            "Enter the length of the rectangle: 10\n",
            "Enter the width of the rectangle: 5\n",
            "The area of the rectangle with length 10.0 and width 5.0 is: 50.0\n"
          ]
        }
      ]
    },
    {
      "cell_type": "markdown",
      "source": [
        "(2) Create a Python program that interactively takes two numerical inputs from the user and swaps their values without utilizing an extra variable."
      ],
      "metadata": {
        "id": "E9RqrlwdTfvl"
      }
    },
    {
      "cell_type": "code",
      "source": [
        "# write your answer here\n",
        "# Get two numerical inputs from the user\n",
        "num1_SK = float(input(\"Enter the first number: \"))\n",
        "num2_SK = float(input(\"Enter the second number: \"))\n",
        "\n",
        "# Swap the values without using an extra variable\n",
        "num1_SK = num1_SK + num2_SK\n",
        "num2_SK = num1_SK - num2_SK\n",
        "num1_SK = num1_SK - num2_SK\n",
        "\n",
        "# Display the swapped values\n",
        "print(f\"After swapping, the first number is: {num1_SK}\")\n",
        "print(f\"After swapping, the second number is: {num2_SK}\")\n"
      ],
      "metadata": {
        "id": "4XvRknixTh1g",
        "colab": {
          "base_uri": "https://localhost:8080/"
        },
        "outputId": "c4b9462a-89fd-4c54-e9fe-7e8feab680d4"
      },
      "execution_count": null,
      "outputs": [
        {
          "output_type": "stream",
          "name": "stdout",
          "text": [
            "Enter the first number: 11\n",
            "Enter the second number: 22\n",
            "After swapping, the first number is: 22.0\n",
            "After swapping, the second number is: 11.0\n"
          ]
        }
      ]
    },
    {
      "cell_type": "markdown",
      "metadata": {
        "id": "03jb4GZsBkBS"
      },
      "source": [
        "(3) Write a Python script to determine and print the length of a user-input string."
      ]
    },
    {
      "cell_type": "code",
      "execution_count": null,
      "metadata": {
        "id": "YaGLbSHHB8Ej",
        "colab": {
          "base_uri": "https://localhost:8080/"
        },
        "outputId": "4c41b906-2814-41b0-9612-4456047e7df3"
      },
      "outputs": [
        {
          "output_type": "stream",
          "name": "stdout",
          "text": [
            "Enter a string: SAKETH\n",
            "The length of the entered string is: 6\n"
          ]
        }
      ],
      "source": [
        "# write your answer here\n",
        "# Get a string input from the user\n",
        "input_SK = input(\"Enter a string: \")\n",
        "\n",
        "# Calculate and print the length of the string\n",
        "length_of_string_SK = len(input_SK)\n",
        "print(f\"The length of the entered string is: {length_of_string_SK}\")\n"
      ]
    },
    {
      "cell_type": "markdown",
      "metadata": {
        "id": "jJDe71iLB616"
      },
      "source": [
        "(4) Construct a Python program that counts and displays the occurrences of each character in a given string.\n",
        "\n",
        "Sample String: 'openai.ai',\n",
        "\n",
        "Expected Result: {'a': 2, 'i': 2, '.': 1, 'o': 1, 'p': 1, 'e': 1, 'n': 1}"
      ]
    },
    {
      "cell_type": "code",
      "execution_count": null,
      "metadata": {
        "id": "MtKskTzbCLaU",
        "colab": {
          "base_uri": "https://localhost:8080/"
        },
        "outputId": "f4241d27-d4fe-4d16-c1c5-56c5513d4e32"
      },
      "outputs": [
        {
          "output_type": "stream",
          "name": "stdout",
          "text": [
            "{'a': 2, 'i': 2, 'o': 1, 'p': 1, 'e': 1, 'n': 1, '.': 1}\n"
          ]
        }
      ],
      "source": [
        "# write your answer here\n",
        "# Sample String\n",
        "sample_string_SK = 'openai.ai'\n",
        "\n",
        "# Dictionary to store character occurrences\n",
        "character_counts_SK = {}\n",
        "\n",
        "# Count occurrences of each character\n",
        "for char in sample_string_SK:\n",
        "    # Check if the character is already in the dictionary\n",
        "    if char in character_counts_SK:\n",
        "        # Increment the count\n",
        "        character_counts_SK[char] += 1\n",
        "    else:\n",
        "        # Initialize the count for the character\n",
        "        character_counts_SK[char] = 1\n",
        "\n",
        "# Sort the dictionary by occurrences in descending order\n",
        "sorted_counts_SK = dict(sorted(character_counts_SK.items(), key=lambda x: x[1], reverse=True))\n",
        "\n",
        "# Display the occurrences of each character in the exact format\n",
        "print(sorted_counts_SK)"
      ]
    },
    {
      "cell_type": "markdown",
      "metadata": {
        "id": "55W9AMdXCSpV"
      },
      "source": [
        "(5) Design a Python code to calculate the sum of all elements in a user-provided list."
      ]
    },
    {
      "cell_type": "code",
      "execution_count": null,
      "metadata": {
        "id": "I57NXsauCec2",
        "colab": {
          "base_uri": "https://localhost:8080/"
        },
        "outputId": "26910006-44de-442a-b000-60dd75e3f94d"
      },
      "outputs": [
        {
          "output_type": "stream",
          "name": "stdout",
          "text": [
            "Enter a list of numbers separated by space: 1 4 7\n",
            "The sum of all elements in the list is: 12\n"
          ]
        }
      ],
      "source": [
        "# write your answer here\n",
        "# Get a list of numbers from the user\n",
        "list_SK = input(\"Enter a list of numbers separated by space: \")\n",
        "\n",
        "# Split the input string into individual elements\n",
        "list_SK = list_SK.split()\n",
        "\n",
        "# Convert the list elements to integers\n",
        "list_SK = [int(num) for num in list_SK]\n",
        "\n",
        "# Calculate the sum of all elements in the list\n",
        "total_sum = sum(list_SK)\n",
        "\n",
        "# Display the sum\n",
        "print(\"The sum of all elements in the list is:\", total_sum)\n"
      ]
    },
    {
      "cell_type": "markdown",
      "metadata": {
        "id": "4ulBZ6yhCi9F"
      },
      "source": [
        "(6) Write a Python program that modifies a given string by replacing all occurrences of its first character with '$', excluding the first character itself.\n",
        "\n",
        "\n",
        "Sample String : 'restart‘,\n",
        "\n",
        "Expected Result : 'resta\\$t'"
      ]
    },
    {
      "cell_type": "code",
      "execution_count": null,
      "metadata": {
        "id": "Fj0XhwbBCw2o",
        "colab": {
          "base_uri": "https://localhost:8080/"
        },
        "outputId": "221a854e-33e6-4ab4-f9ef-75ea214dad41"
      },
      "outputs": [
        {
          "output_type": "stream",
          "name": "stdout",
          "text": [
            "Enter a string: restart\n",
            "Modified String: resta$t\n"
          ]
        }
      ],
      "source": [
        "# write your answer here\n",
        "# Get a string input from the user\n",
        "string_SK = input(\"Enter a string: \")\n",
        "\n",
        "# Check if the input string is not empty\n",
        "if string_SK:\n",
        "    # Extract the first character\n",
        "    first_char = string_SK[0]\n",
        "\n",
        "    # Replace all occurrences of the first character with '$'\n",
        "    modified_string_SK = first_char + string_SK[1:].replace(first_char, '$')\n",
        "\n",
        "    # Display the modified string\n",
        "    print(\"Modified String:\", modified_string_SK)\n",
        "else:\n",
        "    print(\"Input string is empty.\")"
      ]
    },
    {
      "cell_type": "markdown",
      "source": [
        "(7) Write a Python program using a while loop to compute the factorial of a user-supplied number."
      ],
      "metadata": {
        "id": "qVXA3q7ET5JI"
      }
    },
    {
      "cell_type": "code",
      "source": [
        "# write your answer here\n",
        "# Get a number from the user\n",
        "number_SK = int(input(\"Enter a number to compute its factorial:\"))\n",
        "\n",
        "# Initialize variables\n",
        "factorial_SK = 1\n",
        "current_number_SK = 1\n",
        "\n",
        "# Compute factorial using a while loop\n",
        "while current_number_SK <= number_SK:\n",
        "    factorial_SK *= current_number_SK\n",
        "    current_number_SK += 1\n",
        "\n",
        "# Display the result\n",
        "print(f\"The factorial of {number_SK} is: {factorial_SK}\")"
      ],
      "metadata": {
        "id": "Lbt7R6UkT7BA",
        "colab": {
          "base_uri": "https://localhost:8080/"
        },
        "outputId": "a34cf93e-1de8-4400-d608-9629e47db0be"
      },
      "execution_count": null,
      "outputs": [
        {
          "output_type": "stream",
          "name": "stdout",
          "text": [
            "Enter a number to compute its factorial:3\n",
            "The factorial of 3 is: 6\n"
          ]
        }
      ]
    },
    {
      "cell_type": "markdown",
      "source": [
        "(8) Create a program that accepts a list of numbers as input and outputs a new list containing only the even numbers."
      ],
      "metadata": {
        "id": "6YfbzXMNT--R"
      }
    },
    {
      "cell_type": "code",
      "source": [
        "# write your answer here\n",
        "# Get a list of numbers from the user\n",
        "list_SK = input(\"Enter a list of numbers separated by space: \").split()\n",
        "\n",
        "# Convert the list elements to integers\n",
        "list_SK = [int(num) for num in list_SK]\n",
        "\n",
        "# Create a new list containing only the even numbers\n",
        "even_numbers_SK = [num for num in list_SK if num % 2 == 0]\n",
        "\n",
        "# Display the new list of even numbers\n",
        "print(\"List of even numbers:\", even_numbers_SK)\n"
      ],
      "metadata": {
        "id": "54q7wMQPUAKu",
        "colab": {
          "base_uri": "https://localhost:8080/"
        },
        "outputId": "64d937f9-71f7-494e-f803-af75d67ec0f9"
      },
      "execution_count": null,
      "outputs": [
        {
          "output_type": "stream",
          "name": "stdout",
          "text": [
            "Enter a list of numbers separated by space: 2 3 4 5 6 \n",
            "List of even numbers: [2, 4, 6]\n"
          ]
        }
      ]
    },
    {
      "cell_type": "markdown",
      "metadata": {
        "id": "_bIP7s1MCzue"
      },
      "source": [
        "\n",
        "(9) Design a Python function to check if a number is prime.\n"
      ]
    },
    {
      "cell_type": "code",
      "execution_count": null,
      "metadata": {
        "id": "w79QilHXD3Mg",
        "colab": {
          "base_uri": "https://localhost:8080/"
        },
        "outputId": "b3dcec73-46dd-4e28-c5ea-c01a7799bac1"
      },
      "outputs": [
        {
          "output_type": "stream",
          "name": "stdout",
          "text": [
            "Enter a number to check if it's prime: 3\n",
            "3 is a prime number.\n"
          ]
        }
      ],
      "source": [
        "# write your answer here\n",
        "def is_prime(number):\n",
        "    # Check if the number is less than 2 (not a prime number)\n",
        "    if number < 2:\n",
        "        return False\n",
        "    # Check for factors from 2 to the square root of the number\n",
        "    for i in range(2, int(number**0.5) + 1):\n",
        "        if number % i == 0:\n",
        "            return False  # Found a factor, not a prime number\n",
        "    return True  # No factors found, it's a prime number\n",
        "\n",
        "# Test the function with a user-supplied number\n",
        "number_SK = int(input(\"Enter a number to check if it's prime: \"))\n",
        "result_SK = is_prime(number_SK)\n",
        "\n",
        "if result_SK:\n",
        "    print(f\"{number_SK} is a prime number.\")\n",
        "else:\n",
        "    print(f\"{number_SK} is not a prime number.\")"
      ]
    },
    {
      "cell_type": "markdown",
      "metadata": {
        "id": "xCa2bK9aD4Q3"
      },
      "source": [
        "(10) Write a Python program to concatenate following dictionaries to create a new one.\n",
        "\n",
        "Sample Dictionary : dic1={1:10, 2:20}, dic2={3:30, 4:40}, dic3={5:50,6:60},\n",
        "\n",
        "Expected Result : {1: 10, 2: 20, 3: 30, 4: 40, 5: 50, 6: 60}\n"
      ]
    },
    {
      "cell_type": "code",
      "execution_count": null,
      "metadata": {
        "id": "_z4aLqAbEET1",
        "colab": {
          "base_uri": "https://localhost:8080/"
        },
        "outputId": "0ccde7cc-0ba7-4569-8bf5-98c22e4acdd3"
      },
      "outputs": [
        {
          "output_type": "stream",
          "name": "stdout",
          "text": [
            "Concatenated Dictionary: {1: 10, 2: 20, 3: 30, 4: 40, 5: 50, 6: 60}\n"
          ]
        }
      ],
      "source": [
        "# write your answer here\n",
        "# Sample dictionaries\n",
        "dic1_SK = {1: 10, 2: 20}\n",
        "dic2_SK = {3: 30, 4: 40}\n",
        "dic3_SK = {5: 50, 6: 60}\n",
        "\n",
        "# Concatenate dictionaries to create a new one\n",
        "concatenated_dict_SK = {}\n",
        "\n",
        "for d in [dic1_SK, dic2_SK, dic3_SK]:\n",
        "    concatenated_dict_SK.update(d)\n",
        "\n",
        "# Display the concatenated dictionary\n",
        "print(\"Concatenated Dictionary:\", concatenated_dict_SK)"
      ]
    },
    {
      "cell_type": "markdown",
      "source": [
        "(11) Design a Python function that takes a tuple of integers as input and returns the largest and smallest elements."
      ],
      "metadata": {
        "id": "bkyZ2xSZUOst"
      }
    },
    {
      "cell_type": "code",
      "source": [
        "# write your answer here\n",
        "def find_largest_and_smallest(numbers):\n",
        "    # Check if the input tuple is not empty\n",
        "    if not numbers:\n",
        "        return None, None  # Return None for both largest and smallest if the tuple is empty\n",
        "\n",
        "    # Initialize variables\n",
        "    largest_SK = smallest_SK = numbers[0]\n",
        "\n",
        "    # Iterate through the tuple to find the largest and smallest elements\n",
        "    for num in numbers:\n",
        "        if num > largest_SK:\n",
        "            largest_SK = num\n",
        "        elif num < smallest_SK:\n",
        "            smallest_SK = num\n",
        "\n",
        "    return largest_SK, smallest_SK\n",
        "\n",
        "# Test the function with a tuple of integers\n",
        "input_tuple = tuple(map(int, input(\"Enter a tuple of integers separated by space: \").split()))\n",
        "largest_SK, smallest_SK = find_largest_and_smallest(input_tuple)\n",
        "\n",
        "# Display the result\n",
        "if largest_SK is not None and smallest_SK is not None:\n",
        "    print(f\"Largest element: {largest_SK}\")\n",
        "    print(f\"Smallest element: {smallest_SK}\")\n",
        "else:\n",
        "    print(\"The input tuple is empty.\")\n"
      ],
      "metadata": {
        "id": "3FdLRBKOUQEd",
        "colab": {
          "base_uri": "https://localhost:8080/"
        },
        "outputId": "13d11966-9f24-42ae-ace7-a7fc138e244e"
      },
      "execution_count": null,
      "outputs": [
        {
          "output_type": "stream",
          "name": "stdout",
          "text": [
            "Enter a tuple of integers separated by space: 3 5 1 6 8 \n",
            "Largest element: 8\n",
            "Smallest element: 1\n"
          ]
        }
      ]
    },
    {
      "cell_type": "markdown",
      "source": [
        "(12) Write a Python program that counts the frequency of each character in a given string and stores it in a dictionary."
      ],
      "metadata": {
        "id": "O0TVi3gKUTpp"
      }
    },
    {
      "cell_type": "code",
      "source": [
        "# write your answer here\n",
        "# Get a string input from the user\n",
        "string_SK = input(\"Enter a string: \")\n",
        "\n",
        "# Dictionary to store character frequencies\n",
        "char_frequency_SK = {}\n",
        "\n",
        "# Count the frequency of each character\n",
        "for char in string_SK:\n",
        "    # Check if the character is already in the dictionary\n",
        "    if char in char_frequency_SK:\n",
        "        # Increment the count\n",
        "        char_frequency_SK[char] += 1\n",
        "    else:\n",
        "        # Initialize the count for the character\n",
        "        char_frequency_SK[char] = 1\n",
        "\n",
        "# Display the character frequencies\n",
        "print(\"Character frequencies:\")\n",
        "for char, count in char_frequency_SK.items():\n",
        "    print(f\"Character '{char}': {count} times\")\n"
      ],
      "metadata": {
        "id": "lAtfSfZXUU-h",
        "colab": {
          "base_uri": "https://localhost:8080/"
        },
        "outputId": "3a04c95b-5949-4e03-bd55-f7825e25d947"
      },
      "execution_count": null,
      "outputs": [
        {
          "output_type": "stream",
          "name": "stdout",
          "text": [
            "Enter a string: lalaland\n",
            "Character frequencies:\n",
            "Character 'l': 3 times\n",
            "Character 'a': 3 times\n",
            "Character 'n': 1 times\n",
            "Character 'd': 1 times\n"
          ]
        }
      ]
    },
    {
      "cell_type": "markdown",
      "metadata": {
        "id": "0v48Vqa7FrQh"
      },
      "source": [
        "(13) Implement a Python script to identify duplicate elements in a provided array of integers. Return -1 if there are no duplicates."
      ]
    },
    {
      "cell_type": "code",
      "execution_count": null,
      "metadata": {
        "id": "7WEmgq-DF2P1",
        "colab": {
          "base_uri": "https://localhost:8080/"
        },
        "outputId": "dc61f96f-8c4f-460e-eeed-f3b5dfb72013"
      },
      "outputs": [
        {
          "output_type": "stream",
          "name": "stdout",
          "text": [
            "Enter an array of integers separated by space:  3 3 4 5 6 8 9 6 \n",
            "Duplicate elements: [3, 6]\n"
          ]
        }
      ],
      "source": [
        "# write your answer here\n",
        "def find_duplicates(arr):\n",
        "    seen_SK = set()\n",
        "    duplicates_SK = set()\n",
        "\n",
        "    for num in arr:\n",
        "        if num in seen_SK:\n",
        "            duplicates_SK.add(num)\n",
        "        else:\n",
        "            seen_SK.add(num)\n",
        "\n",
        "    if not duplicates_SK:\n",
        "        return -1\n",
        "    else:\n",
        "        return list(duplicates_SK)\n",
        "\n",
        "# Test the function with a user-supplied array\n",
        "array_SK = list(map(int, input(\"Enter an array of integers separated by space: \").split()))\n",
        "result = find_duplicates(array_SK)\n",
        "\n",
        "# Display the result\n",
        "if result == -1:\n",
        "    print(\"No duplicates found.\")\n",
        "else:\n",
        "    print(\"Duplicate elements:\", result)"
      ]
    },
    {
      "cell_type": "markdown",
      "metadata": {
        "id": "vD5PYLMuGga_"
      },
      "source": [
        "(14) Write a Python script to find the common elements between two lists."
      ]
    },
    {
      "cell_type": "code",
      "execution_count": null,
      "metadata": {
        "id": "t0D5kdJUGjjw",
        "colab": {
          "base_uri": "https://localhost:8080/"
        },
        "outputId": "bc3fb4cd-0872-46c8-e836-30b31b949128"
      },
      "outputs": [
        {
          "output_type": "stream",
          "name": "stdout",
          "text": [
            "Enter the first list of integers separated by space: 3 1 5 6 \n",
            "Enter the second list of integers separated by space: 6 5 1 3 \n",
            "Common elements: [1, 3, 5, 6]\n"
          ]
        }
      ],
      "source": [
        "# write your answer here\n",
        "def find_common_elements(SK_list1, SK_list2):\n",
        "    common_elements_SK = set(SK_list1) & set(SK_list2)\n",
        "    return list(common_elements_SK)\n",
        "\n",
        "# Test the function with user-supplied lists\n",
        "SK_list1 = list(map(int, input(\"Enter the first list of integers separated by space: \").split()))\n",
        "SK_list2 = list(map(int, input(\"Enter the second list of integers separated by space: \").split()))\n",
        "\n",
        "common_elements_SK = find_common_elements(SK_list1, SK_list2)\n",
        "\n",
        "# Display the result\n",
        "if common_elements_SK:\n",
        "    print(\"Common elements:\", common_elements_SK)\n",
        "else:\n",
        "    print(\"No common elements found.\")"
      ]
    },
    {
      "cell_type": "markdown",
      "metadata": {
        "id": "uHkd-y5VhVWC"
      },
      "source": [
        "(15) Write a Python program to randomly divide the students in this class into six groups for term projects, each group should have at least 4 students but no more than 6 students (including 6).\n",
        "\n",
        "Here is the students list:\n",
        "\n",
        "student_list_spring_2024=[rb0846,\n",
        "ac1964,\n",
        "hc0612,\n",
        "md0912,\n",
        "ad1198,\n",
        "md0894,\n",
        "md0825,\n",
        "vg0598,\n",
        "vg0433,\n",
        "mh1068,\n",
        "yj0173,\n",
        "pk0553,\n",
        "tk0411,\n",
        "srk0204,\n",
        "sk2922,\n",
        "sk2936,\n",
        "mk1302,\n",
        "mk1317,\n",
        "tk0412,\n",
        "vk0656,\n",
        "sm2985,\n",
        "mm2372,\n",
        "un0045,\n",
        "an0892,\n",
        "sn0913,\n",
        "gp0252,\n",
        "ap1484,\n",
        "mr1765,\n",
        "sr1385,\n",
        "sr1335,\n",
        "hs0665,\n",
        "ms2060,\n",
        "gt0217,\n",
        "nt0385,\n",
        "tv0186,\n",
        "sv1394,\n",
        "sv1752,\n",
        "sv1555,\n",
        "sy0594\n",
        "]\n"
      ]
    },
    {
      "cell_type": "code",
      "execution_count": null,
      "metadata": {
        "id": "3iGbmcOBhTwy",
        "colab": {
          "base_uri": "https://localhost:8080/"
        },
        "outputId": "37fd195b-4294-4bcc-a317-c0aa712e625a"
      },
      "outputs": [
        {
          "output_type": "stream",
          "name": "stdout",
          "text": [
            "Group 1: tk0412, ms2060, gt0217, sk2936, an0892, md0912, sv1394\n",
            "Group 2: vk0656, ac1964, hs0665, mm2372, mr1765, md0894, sn0913\n",
            "Group 3: rb0846, sv1752, sv1555, ad1198, gp0252, srk0204, tk0411\n",
            "Group 4: sy0594, pk0553, sr1385, vg0598, sr1335, mk1302\n",
            "Group 5: yj0173, ap1484, un0045, sm2985, mk1317, tv0186\n",
            "Group 6: vg0433, md0825, nt0385, hc0612, sk2922, mh1068\n"
          ]
        }
      ],
      "source": [
        "# write your answer here\n",
        "import random\n",
        "\n",
        "def divide_students_into_groups(student_list_SK):\n",
        "    # Shuffle the student list randomly\n",
        "    random.shuffle(student_list_SK)\n",
        "\n",
        "    # Calculate the number of students in each group\n",
        "    total_students_SK = len(student_list_SK)\n",
        "    group_size_SK = total_students_SK // 6\n",
        "    remaining_students_SK = total_students_SK % 6\n",
        "\n",
        "    # Initialize a list to store the groups\n",
        "    groups = []\n",
        "\n",
        "    # Divide the students into groups\n",
        "    start_index = 0\n",
        "    for i in range(6):\n",
        "        end_index = start_index + group_size_SK + (1 if i < remaining_students_SK else 0)\n",
        "        groups.append(student_list_SK[start_index:end_index])\n",
        "        start_index = end_index\n",
        "\n",
        "    return groups\n",
        "\n",
        "# Student list for Spring 2024\n",
        "student_list_spring_2024 = [\n",
        "    'rb0846', 'ac1964', 'hc0612', 'md0912', 'ad1198', 'md0894', 'md0825', 'vg0598',\n",
        "    'vg0433', 'mh1068', 'yj0173', 'pk0553', 'tk0411', 'srk0204', 'sk2922', 'sk2936',\n",
        "    'mk1302', 'mk1317', 'tk0412', 'vk0656', 'sm2985', 'mm2372', 'un0045', 'an0892',\n",
        "    'sn0913', 'gp0252', 'ap1484', 'mr1765', 'sr1385', 'sr1335', 'hs0665', 'ms2060',\n",
        "    'gt0217', 'nt0385', 'tv0186', 'sv1394', 'sv1752', 'sv1555', 'sy0594'\n",
        "]\n",
        "\n",
        "# Divide students into groups\n",
        "result_groups = divide_students_into_groups(student_list_spring_2024)\n",
        "\n",
        "# Display the result\n",
        "for i, group in enumerate(result_groups, start=1):\n",
        "    print(f\"Group {i}: {', '.join(group)}\")"
      ]
    },
    {
      "cell_type": "markdown",
      "metadata": {
        "id": "fmZ9vX20Qs3d"
      },
      "source": [
        "(16) Create a program that takes a positive integer 'n' as input and prints the count of even numbers from 1 to 'n'. Optimize the loop using the break statement."
      ]
    },
    {
      "cell_type": "code",
      "execution_count": null,
      "metadata": {
        "id": "W8Jw6sWMQs3d",
        "colab": {
          "base_uri": "https://localhost:8080/"
        },
        "outputId": "504f03a3-471e-493c-f8a3-6fe0ecfd026e"
      },
      "outputs": [
        {
          "output_type": "stream",
          "name": "stdout",
          "text": [
            "Enter a positive integer 'n': 10\n",
            "The count of even numbers from 1 to 10 is: 5\n"
          ]
        }
      ],
      "source": [
        "# write your answer here\n",
        "def count_even_numbers(n):\n",
        "    if n <= 0:\n",
        "        print(\"Please enter a positive integer.\")\n",
        "        return\n",
        "\n",
        "    count = 0\n",
        "\n",
        "    for i in range(1, n + 1):\n",
        "        if i % 2 == 0:\n",
        "            count += 1\n",
        "        elif i > n:  # Break the loop when reaching 'n'\n",
        "            break\n",
        "\n",
        "    print(f\"The count of even numbers from 1 to {n} is: {count}\")\n",
        "\n",
        "# Get a positive integer 'n' from the user\n",
        "n = int(input(\"Enter a positive integer 'n': \"))\n",
        "\n",
        "# Call the function to count even numbers\n",
        "count_even_numbers(n)"
      ]
    },
    {
      "cell_type": "markdown",
      "metadata": {
        "id": "hvq4APMhQs3d"
      },
      "source": [
        "(17) Develop a Python function called 'count_vowels' that takes a string as input and returns the count of vowels (both lowercase and uppercase) present in the string, ignoring spaces and non-alphabetic characters."
      ]
    },
    {
      "cell_type": "code",
      "execution_count": null,
      "metadata": {
        "id": "ZnoxhSglQs3d",
        "colab": {
          "base_uri": "https://localhost:8080/"
        },
        "outputId": "dafe04dc-e2f2-4c0f-cc89-61aa6783fd93"
      },
      "outputs": [
        {
          "output_type": "stream",
          "name": "stdout",
          "text": [
            "Enter a string: I am A BoY\n",
            "The count of vowels in the entered string is: 4\n"
          ]
        }
      ],
      "source": [
        "# write your answer here\n",
        "def count_vowels(input_string):\n",
        "    vowels_SK = \"aeiouAEIOU\"\n",
        "    count_SK = 0\n",
        "\n",
        "    for char in input_string:\n",
        "        # Check if the character is an alphabet and a vowel\n",
        "        if char.isalpha() and char in vowels_SK:\n",
        "            count_SK += 1\n",
        "\n",
        "    return count_SK\n",
        "\n",
        "# Get a string input from the user\n",
        "input_SK = input(\"Enter a string: \")\n",
        "\n",
        "# Call the function to count vowels\n",
        "result_SK = count_vowels(input_SK)\n",
        "\n",
        "# Display the result\n",
        "print(f\"The count of vowels in the entered string is: {result_SK}\")"
      ]
    },
    {
      "cell_type": "markdown",
      "source": [
        "(18) Create a custom exception named ValueTooSmallError in Python. Write a program that takes user input for an age, and if the entered age is less than 18, raise the ValueTooSmallError with an appropriate error message."
      ],
      "metadata": {
        "id": "55FWoSJPVVM6"
      }
    },
    {
      "cell_type": "code",
      "source": [
        "# write your answer here\n",
        "class ValueTooSmallError(Exception):\n",
        "    pass\n",
        "\n",
        "def validate_age(age):\n",
        "    if age < 18:\n",
        "        raise ValueTooSmallError(\"Age must be 18 or older.\")\n",
        "\n",
        "try:\n",
        "    # Get user input for age\n",
        "    age_SK = int(input(\"Enter your age: \"))\n",
        "\n",
        "    # Validate the age\n",
        "    validate_age(age_SK)\n",
        "\n",
        "    # If the age is valid, proceed with the rest of the program\n",
        "    print(\"You are eligible.\")\n",
        "except ValueError:\n",
        "    print(\"Invalid input. Please enter a valid integer for age.\")\n",
        "except ValueTooSmallError as e:\n",
        "    print(f\"Error: {e}\")"
      ],
      "metadata": {
        "id": "hwtr1wZmVX5A",
        "colab": {
          "base_uri": "https://localhost:8080/"
        },
        "outputId": "112247f4-8d2d-4300-9b2f-05baf3da2a56"
      },
      "execution_count": null,
      "outputs": [
        {
          "output_type": "stream",
          "name": "stdout",
          "text": [
            "Enter your age: 19\n",
            "You are eligible.\n"
          ]
        }
      ]
    },
    {
      "cell_type": "markdown",
      "source": [
        "(19) Develop a script that reverses a given string without using built-in reverse functions."
      ],
      "metadata": {
        "id": "Q9ecagcaVazW"
      }
    },
    {
      "cell_type": "code",
      "source": [
        "# write your answer here\n",
        "def reverse_string(input_string):\n",
        "    str_rev = \"\"\n",
        "\n",
        "    # Iterate through the string in reverse order\n",
        "    for char in input_string[::-1]:\n",
        "        str_rev += char\n",
        "\n",
        "    return str_rev\n",
        "\n",
        "# Get a string input from the user\n",
        "input_SK = input(\"Enter a string: \")\n",
        "\n",
        "# Call the function to reverse the string\n",
        "result = reverse_string(input_SK)\n",
        "\n",
        "# Display the result\n",
        "print(\"Reversed String:\", result)"
      ],
      "metadata": {
        "id": "gycgckoAVZjR",
        "colab": {
          "base_uri": "https://localhost:8080/"
        },
        "outputId": "2fba46a6-5f2f-491b-d00d-ebff8e4fb06f"
      },
      "execution_count": null,
      "outputs": [
        {
          "output_type": "stream",
          "name": "stdout",
          "text": [
            "Enter a string: vouy\n",
            "Reversed String: yuov\n"
          ]
        }
      ]
    },
    {
      "cell_type": "markdown",
      "source": [
        "(20) Implement a Python script to generate a random password of a specified length."
      ],
      "metadata": {
        "id": "ZFG6RibifMLu"
      }
    },
    {
      "cell_type": "code",
      "source": [
        "# write your answer here\n",
        "import random\n",
        "import string\n",
        "\n",
        "def generate_random_password(length):\n",
        "    # Define the characters to use in the password\n",
        "    characters_SK = string.ascii_letters + string.digits + string.punctuation\n",
        "\n",
        "    # Generate a random password using the specified length\n",
        "    password_SK = ''.join(random.choice(characters_SK) for _ in range(length))\n",
        "\n",
        "    return password_SK\n",
        "\n",
        "# Get the desired length of the password from the user\n",
        "pass_len_SK = int(input(\"Enter the desired length of the password: \"))\n",
        "\n",
        "# Call the function to generate a random password\n",
        "random_pass_SK = generate_random_password(pass_len_SK)\n",
        "\n",
        "# Display the generated password\n",
        "print(\"Generated Password:\", random_pass_SK)"
      ],
      "metadata": {
        "id": "BFVrkEi9fNiD",
        "colab": {
          "base_uri": "https://localhost:8080/"
        },
        "outputId": "7e0bb615-8c28-48df-aed1-c3793db39625"
      },
      "execution_count": null,
      "outputs": [
        {
          "output_type": "stream",
          "name": "stdout",
          "text": [
            "Enter the desired length of the password: 3\n",
            "Generated Password: ]\"F\n"
          ]
        }
      ]
    },
    {
      "cell_type": "markdown",
      "source": [
        "# Try these questions:"
      ],
      "metadata": {
        "id": "6SmvS7nSfbj8"
      }
    },
    {
      "cell_type": "markdown",
      "source": [
        "(21) Define a base class called 'Vehicle' with attributes make and model. Create a derived class Car that inherits from Vehicle and has an additional attribute 'num_doors'. Demonstrate an example of creating an instance of the 'Car' class and accessing its attributes."
      ],
      "metadata": {
        "id": "cboAr5pEWUf5"
      }
    },
    {
      "cell_type": "code",
      "source": [
        "# write your answer here\n",
        "class Vehicle:\n",
        "    def __init__(self, make, model):\n",
        "        self.make = make\n",
        "        self.model = model\n",
        "\n",
        "class Car(Vehicle):\n",
        "    def __init__(self, make, model, num_doors):\n",
        "        # Call the constructor of the base class (Vehicle)\n",
        "        super().__init__(make, model)\n",
        "        self.num_doors = num_doors\n",
        "\n",
        "# Example of creating an instance of the 'Car' class\n",
        "car_instance = Car(make=\"Toyota\", model=\"Camry\", num_doors=4)\n",
        "\n",
        "# Accessing attributes of the 'Car' instance\n",
        "print(\"Make:\", car_instance.make)\n",
        "print(\"Model:\", car_instance.model)\n",
        "print(\"Number of Doors:\", car_instance.num_doors)"
      ],
      "metadata": {
        "id": "phs9gciMWWAW",
        "colab": {
          "base_uri": "https://localhost:8080/"
        },
        "outputId": "dc60a0f2-ac8b-4e9b-e68b-dba66aa55557"
      },
      "execution_count": null,
      "outputs": [
        {
          "output_type": "stream",
          "name": "stdout",
          "text": [
            "Make: Toyota\n",
            "Model: Camry\n",
            "Number of Doors: 4\n"
          ]
        }
      ]
    },
    {
      "cell_type": "markdown",
      "source": [
        "(22) Create a class called 'Shape' with a method calculate_area(). Implement two derived classes 'Circle' and 'Rectangle' that inherit from Shape and override the calculate_area() method. Demonstrate polymorphism by creating instances of both derived classes and calling the calculate_area() method."
      ],
      "metadata": {
        "id": "J8HHefNtePwd"
      }
    },
    {
      "cell_type": "code",
      "source": [
        "# write your answer here\n",
        "import math\n",
        "\n",
        "class Shape:\n",
        "    def calculate_area(self):\n",
        "        pass  # This method will be overridden in the derived classes\n",
        "\n",
        "class Circle(Shape):\n",
        "    def __init__(self, radius):\n",
        "        self.radius = radius\n",
        "\n",
        "    def calculate_area(self):\n",
        "        return math.pi * self.radius**2\n",
        "\n",
        "class Rectangle(Shape):\n",
        "    def __init__(self, length, width):\n",
        "        self.length = length\n",
        "        self.width = width\n",
        "\n",
        "    def calculate_area(self):\n",
        "        return self.length * self.width\n",
        "\n",
        "# Get user input for the radius of the circle\n",
        "radius = float(input(\"Enter the radius of the circle: \"))\n",
        "circle_instance = Circle(radius)\n",
        "\n",
        "# Get user input for the length and width of the rectangle\n",
        "length = float(input(\"Enter the length of the rectangle: \"))\n",
        "width = float(input(\"Enter the width of the rectangle: \"))\n",
        "rectangle_instance = Rectangle(length, width)\n",
        "\n",
        "# Call the calculate_area() method on both instances\n",
        "circle_area = circle_instance.calculate_area()\n",
        "rectangle_area = rectangle_instance.calculate_area()\n",
        "\n",
        "# Display the calculated areas\n",
        "print(f\"Area of the Circle: {circle_area:.2f}\")\n",
        "print(f\"Area of the Rectangle: {rectangle_area}\")"
      ],
      "metadata": {
        "id": "btnMmUZDeRhS",
        "colab": {
          "base_uri": "https://localhost:8080/"
        },
        "outputId": "c461e9ef-f1cb-43ea-da3f-bea04d4d2914"
      },
      "execution_count": null,
      "outputs": [
        {
          "output_type": "stream",
          "name": "stdout",
          "text": [
            "Enter the radius of the circle: 25\n",
            "Enter the length of the rectangle: 6\n",
            "Enter the width of the rectangle: 7\n",
            "Area of the Circle: 1963.50\n",
            "Area of the Rectangle: 42.0\n"
          ]
        }
      ]
    },
    {
      "cell_type": "markdown",
      "source": [
        "(23) Write a Python program that prompts the user to enter two numbers and perform a division operation. Handle exceptions for both zero division and invalid input (non-numeric input). Display appropriate error messages for each type of exception and ensure the program does not crash due to these errors."
      ],
      "metadata": {
        "id": "z0oqEAlTeMUS"
      }
    },
    {
      "cell_type": "code",
      "source": [
        "# write your answer here\n",
        "def safe_division():\n",
        "    try:\n",
        "        # Get user input for two numbers\n",
        "        numerator = float(input(\"Enter the numerator: \"))\n",
        "        denominator = float(input(\"Enter the denominator: \"))\n",
        "\n",
        "        # Perform the division\n",
        "        result = numerator / denominator\n",
        "\n",
        "        # Display the result\n",
        "        print(f\"The result of {numerator} / {denominator} is: {result}\")\n",
        "\n",
        "    except ValueError:\n",
        "        print(\"Error: Invalid input. Please enter numeric values.\")\n",
        "    except ZeroDivisionError:\n",
        "        print(\"Error: Division by zero is not allowed.\")\n",
        "    except Exception as e:\n",
        "        print(f\"An unexpected error occurred: {e}\")\n",
        "\n",
        "# Call the safe_division function to perform the division operation safely\n",
        "safe_division()\n"
      ],
      "metadata": {
        "id": "yjdc1zM1eMAs",
        "colab": {
          "base_uri": "https://localhost:8080/"
        },
        "outputId": "9028e32a-49d9-4bb6-9355-04a3fe73f151"
      },
      "execution_count": null,
      "outputs": [
        {
          "output_type": "stream",
          "name": "stdout",
          "text": [
            "Enter the numerator: 8\n",
            "Enter the denominator: 2\n",
            "The result of 8.0 / 2.0 is: 4.0\n"
          ]
        }
      ]
    },
    {
      "cell_type": "markdown",
      "source": [
        "# Mandatory Question"
      ],
      "metadata": {
        "id": "sZOhks1dXWEe"
      }
    },
    {
      "cell_type": "markdown",
      "source": [
        "**Important:**\n",
        "Reflecting on the first three lectures and the exercises you've completed, please provide feedback on your learning experience. Share your thoughts on whether the material covered was clear, the exercises were helpful, and if you feel more confident in applying Python programming concepts. Additionally, mention any specific areas where you would like more clarification or topics you would like to explore further in future lectures. Your feedback is valuable in shaping the course for an effective learning journey."
      ],
      "metadata": {
        "id": "eqmHVEwaWhbV"
      }
    },
    {
      "cell_type": "markdown",
      "source": [
        "After completing the first three lectures and participating in the exercises presented, I found the material clear and logical. The combination of well-defined topics and hands-on activities received in class contributed greatly to a clear understanding of the topics covered."
      ],
      "metadata": {
        "id": "HlpXOT9wXQAd"
      }
    }
  ],
  "metadata": {
    "colab": {
      "provenance": [],
      "include_colab_link": true
    },
    "kernelspec": {
      "display_name": "Python 3 (ipykernel)",
      "language": "python",
      "name": "python3"
    },
    "language_info": {
      "codemirror_mode": {
        "name": "ipython",
        "version": 3
      },
      "file_extension": ".py",
      "mimetype": "text/x-python",
      "name": "python",
      "nbconvert_exporter": "python",
      "pygments_lexer": "ipython3",
      "version": "3.9.12"
    }
  },
  "nbformat": 4,
  "nbformat_minor": 0
}
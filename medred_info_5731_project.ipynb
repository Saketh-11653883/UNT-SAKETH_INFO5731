{
  "cells": [
    {
      "cell_type": "markdown",
      "metadata": {
        "id": "view-in-github",
        "colab_type": "text"
      },
      "source": [
        "<a href=\"https://colab.research.google.com/github/Saketh-11653883/UNT-SAKETH_INFO5731/blob/main/medred_info_5731_project.ipynb\" target=\"_parent\"><img src=\"https://colab.research.google.com/assets/colab-badge.svg\" alt=\"Open In Colab\"/></a>"
      ]
    },
    {
      "cell_type": "code",
      "execution_count": null,
      "metadata": {
        "colab": {
          "base_uri": "https://localhost:8080/"
        },
        "id": "HmkyycdoEOTj",
        "outputId": "72d805e9-dc2d-4415-b5d0-0d3bbc094b57"
      },
      "outputs": [
        {
          "name": "stdout",
          "output_type": "stream",
          "text": [
            "Collecting openai==0.28\n",
            "  Downloading openai-0.28.0-py3-none-any.whl (76 kB)\n",
            "\u001b[2K     \u001b[90m━━━━━━━━━━━━━━━━━━━━━━━━━━━━━━━━━━━━━━━━\u001b[0m \u001b[32m76.5/76.5 kB\u001b[0m \u001b[31m2.1 MB/s\u001b[0m eta \u001b[36m0:00:00\u001b[0m\n",
            "\u001b[?25hRequirement already satisfied: requests>=2.20 in /usr/local/lib/python3.10/dist-packages (from openai==0.28) (2.31.0)\n",
            "Requirement already satisfied: tqdm in /usr/local/lib/python3.10/dist-packages (from openai==0.28) (4.66.2)\n",
            "Requirement already satisfied: aiohttp in /usr/local/lib/python3.10/dist-packages (from openai==0.28) (3.9.5)\n",
            "Requirement already satisfied: charset-normalizer<4,>=2 in /usr/local/lib/python3.10/dist-packages (from requests>=2.20->openai==0.28) (3.3.2)\n",
            "Requirement already satisfied: idna<4,>=2.5 in /usr/local/lib/python3.10/dist-packages (from requests>=2.20->openai==0.28) (3.7)\n",
            "Requirement already satisfied: urllib3<3,>=1.21.1 in /usr/local/lib/python3.10/dist-packages (from requests>=2.20->openai==0.28) (2.0.7)\n",
            "Requirement already satisfied: certifi>=2017.4.17 in /usr/local/lib/python3.10/dist-packages (from requests>=2.20->openai==0.28) (2024.2.2)\n",
            "Requirement already satisfied: aiosignal>=1.1.2 in /usr/local/lib/python3.10/dist-packages (from aiohttp->openai==0.28) (1.3.1)\n",
            "Requirement already satisfied: attrs>=17.3.0 in /usr/local/lib/python3.10/dist-packages (from aiohttp->openai==0.28) (23.2.0)\n",
            "Requirement already satisfied: frozenlist>=1.1.1 in /usr/local/lib/python3.10/dist-packages (from aiohttp->openai==0.28) (1.4.1)\n",
            "Requirement already satisfied: multidict<7.0,>=4.5 in /usr/local/lib/python3.10/dist-packages (from aiohttp->openai==0.28) (6.0.5)\n",
            "Requirement already satisfied: yarl<2.0,>=1.0 in /usr/local/lib/python3.10/dist-packages (from aiohttp->openai==0.28) (1.9.4)\n",
            "Requirement already satisfied: async-timeout<5.0,>=4.0 in /usr/local/lib/python3.10/dist-packages (from aiohttp->openai==0.28) (4.0.3)\n",
            "Installing collected packages: openai\n",
            "Successfully installed openai-0.28.0\n"
          ]
        }
      ],
      "source": [
        "pip install openai==0.28"
      ]
    },
    {
      "cell_type": "markdown",
      "metadata": {
        "id": "wb8R26NI4r2u"
      },
      "source": [
        "**Subreddit vs Post**"
      ]
    },
    {
      "cell_type": "code",
      "execution_count": null,
      "metadata": {
        "colab": {
          "base_uri": "https://localhost:8080/"
        },
        "id": "CtcBDZ1fRcVw",
        "outputId": "917cf3ea-5dcc-4569-93b4-e7d956d415c3"
      },
      "outputs": [
        {
          "name": "stderr",
          "output_type": "stream",
          "text": [
            "Evaluating correctness:  47%|████▋     | 933/1976 [15:54<15:18,  1.14it/s]"
          ]
        },
        {
          "name": "stdout",
          "output_type": "stream",
          "text": [
            "Failed to fetch embeddings: We could not parse the JSON body of your request. (HINT: This likely means you aren't using your HTTP library correctly. The OpenAI API expects a JSON payload, but what was sent was not valid JSON. If you have trouble figuring out how to fix this, please contact us through our help center at help.openai.com.)\n"
          ]
        },
        {
          "name": "stderr",
          "output_type": "stream",
          "text": [
            "Evaluating correctness:  69%|██████▉   | 1366/1976 [23:26<19:08,  1.88s/it]"
          ]
        },
        {
          "name": "stdout",
          "output_type": "stream",
          "text": [
            "Failed to fetch embeddings: The server had an error while processing your request. Sorry about that! {\n",
            "  \"error\": {\n",
            "    \"message\": \"The server had an error while processing your request. Sorry about that!\",\n",
            "    \"type\": \"server_error\",\n",
            "    \"param\": null,\n",
            "    \"code\": null\n",
            "  }\n",
            "}\n",
            " 500 {'error': {'message': 'The server had an error while processing your request. Sorry about that!', 'type': 'server_error', 'param': None, 'code': None}} {'Date': 'Mon, 06 May 2024 18:00:24 GMT', 'Content-Type': 'application/json', 'Content-Length': '176', 'Connection': 'keep-alive', 'access-control-allow-origin': '*', 'openai-model': 'text-embedding-ada-002', 'openai-organization': 'user-lhouwhazwi2amwko8bl14hwo', 'openai-processing-ms': '3265', 'openai-version': '2020-10-01', 'strict-transport-security': 'max-age=15724800; includeSubDomains', 'x-ratelimit-limit-requests': '3000', 'x-ratelimit-limit-tokens': '1000000', 'x-ratelimit-remaining-requests': '2999', 'x-ratelimit-remaining-tokens': '999769', 'x-ratelimit-reset-requests': '20ms', 'x-ratelimit-reset-tokens': '13ms', 'x-request-id': 'req_bbf76dd906e73792a5304f05d2157fdd', 'CF-Cache-Status': 'DYNAMIC', 'Server': 'cloudflare', 'CF-RAY': '87fade8efe0452f5-LAX', 'alt-svc': 'h3=\":443\"; ma=86400'}\n"
          ]
        },
        {
          "name": "stderr",
          "output_type": "stream",
          "text": [
            "Evaluating correctness: 100%|██████████| 1976/1976 [33:57<00:00,  1.03s/it]"
          ]
        },
        {
          "name": "stdout",
          "output_type": "stream",
          "text": [
            "Correctness Definition: Correctness evaluates the semantic alignment between the provided symptoms and the associated disease name. A higher alignment score suggests better correctness.\n",
            "Average Correctness Score: 0.7596\n"
          ]
        },
        {
          "name": "stderr",
          "output_type": "stream",
          "text": [
            "\n"
          ]
        }
      ],
      "source": [
        "import pandas as pd\n",
        "import openai\n",
        "from scipy.spatial.distance import cosine\n",
        "from tqdm import tqdm  # Progress tracking\n",
        "\n",
        "# Assign your OpenAI API key\n",
        "openai.api_key = 'sk-proj-FFgXXrjrERWxO4z2XsjAT3BlbkFJAa2ZiweUp6plh5Kioaav'\n",
        "\n",
        "# Set the definition of correctness\n",
        "CORRECTNESS_DEFINITION = \"Correctness evaluates the semantic alignment between the provided symptoms and the associated disease name. A higher alignment score suggests better correctness.\"\n",
        "\n",
        "# Load the dataset\n",
        "df = pd.read_csv('/content/MedRed_AMT_labels.csv')  # Update path accordingly\n",
        "\n",
        "# Function to retrieve embeddings from a list of text items\n",
        "def fetch_embeddings(texts, engine=\"text-embedding-ada-002\"):\n",
        "    try:\n",
        "        result = openai.Embedding.create(input=texts, engine=engine)\n",
        "        return [item['embedding'] for item in result['data']]\n",
        "    except Exception as e:\n",
        "        print(f\"Failed to fetch embeddings: {e}\")\n",
        "        return [None] * len(texts)\n",
        "\n",
        "# Function to check the contextual relevance of descriptions to diseases\n",
        "def context_relevance_check(symptoms, disease_name):\n",
        "    try:\n",
        "        result = openai.Completion.create(\n",
        "            model=\"gpt-3.5-turbo-instruct\",\n",
        "            prompt=f\"{CORRECTNESS_DEFINITION}\\n\\nDoes the term '{disease_name}' relate contextually to the described symptoms '{symptoms}'? If not, provide a more suitable term.\",\n",
        "            max_tokens=50,\n",
        "            temperature=0.3\n",
        "        )\n",
        "        return result.choices[0].text.strip()\n",
        "    except Exception as e:\n",
        "        print(f\"Context check failed: {e}\")\n",
        "        return \"Error\"\n",
        "\n",
        "# Evaluate correctness for each record in the dataset\n",
        "correctness_scores = []\n",
        "for _, entry in tqdm(df.iterrows(), total=len(df), desc=\"Evaluating correctness\"):\n",
        "    suitable_term = context_relevance_check(entry['subreddit'], entry['post'])\n",
        "    symptoms_emb = fetch_embeddings([entry['subreddit']])\n",
        "    disease_emb = fetch_embeddings([entry['post']])\n",
        "    if symptoms_emb[0] and disease_emb[0]:\n",
        "        score = 1 - cosine(symptoms_emb[0], disease_emb[0])\n",
        "        correctness_scores.append(score)\n",
        "    else:\n",
        "        correctness_scores.append(None)\n",
        "\n",
        "# Compute the average correctness score\n",
        "valid_scores = [score for score in correctness_scores if score is not None]\n",
        "average_correctness = sum(valid_scores) / len(valid_scores) if valid_scores else 0\n",
        "\n",
        "# Output the correctness score and definition\n",
        "print(f\"Correctness Definition: {CORRECTNESS_DEFINITION}\")\n",
        "print(f\"Average Correctness Score: {round(average_correctness, 4)}\")\n"
      ]
    },
    {
      "cell_type": "code",
      "execution_count": null,
      "metadata": {
        "colab": {
          "base_uri": "https://localhost:8080/"
        },
        "id": "TyST4iGWRcSX",
        "outputId": "da667af2-6886-491a-da02-85564108708c"
      },
      "outputs": [
        {
          "name": "stderr",
          "output_type": "stream",
          "text": [
            "Processing Entries: 100%|██████████| 1976/1976 [00:00<00:00, 9413.62it/s]"
          ]
        },
        {
          "name": "stdout",
          "output_type": "stream",
          "text": [
            "Uniqueness Score 0.9995\n"
          ]
        },
        {
          "name": "stderr",
          "output_type": "stream",
          "text": [
            "\n"
          ]
        }
      ],
      "source": [
        "import pandas as pd\n",
        "import openai\n",
        "import os\n",
        "from tqdm import tqdm  # Import tqdm for progress tracking\n",
        "\n",
        "# Set your OpenAI API key\n",
        "openai.api_key = 'sk-proj-FFgXXrjrERWxO4z2XsjAT3BlbkFJAa2ZiweUp6plh5Kioaav'\n",
        "\n",
        "# Define the uniqueness definition\n",
        "UNIQUENESS_DEFINITION = \"Uniqueness is determined by assessing whether each disease-description combination in the dataset is distinct from all other combinations. A unique pair consists of a disease and its corresponding description that does not have an exact match with any other pair in the dataset.\"\n",
        "\n",
        "# Define a function to extract unique pairs of disease and description\n",
        "def get_unique_pairs(df):\n",
        "    unique_pairs = set()  # Store unique pairs in a set to avoid duplicates\n",
        "    for i, (_, row) in enumerate(tqdm(df.iterrows(), total=len(df), desc=\"Processing Entries\")):\n",
        "        pair = (row['subreddit'], row['post'])  # Using 'subreddit' as disease and 'post' as description\n",
        "        unique_pairs.add(pair)\n",
        "    return unique_pairs\n",
        "\n",
        "# Define a function to calculate uniqueness score for a dataset\n",
        "def calculate_uniqueness_score(df):\n",
        "    unique_pairs = get_unique_pairs(df)\n",
        "    total_entries = len(df)\n",
        "    unique_pairs_count = len(unique_pairs)\n",
        "    uniqueness_score = unique_pairs_count / total_entries\n",
        "    return uniqueness_score\n",
        "\n",
        "# Load the dataset\n",
        "dataset_path = '/content/MedRed_AMT_labels.csv'\n",
        "df = pd.read_csv(dataset_path)\n",
        "\n",
        "# Calculate and print the uniqueness score for the dataset\n",
        "uniqueness_score = calculate_uniqueness_score(df)\n",
        "print(f\"Uniqueness Score {uniqueness_score:.4f}\")\n"
      ]
    },
    {
      "cell_type": "code",
      "source": [
        "import pandas as pd\n",
        "import openai\n",
        "from tqdm import tqdm  # Import tqdm for progress tracking\n",
        "\n",
        "def load_data(file_path):\n",
        "    \"\"\" Load the CSV file into a DataFrame and ensure text columns are treated as strings. \"\"\"\n",
        "    df = pd.read_csv(file_path)\n",
        "    df['post'] = df['post'].astype(str)  # Ensure the description column is always treated as string\n",
        "    return df\n",
        "\n",
        "def evaluate_description_completeness(disease, description):\n",
        "    \"\"\" Use OpenAI to evaluate the completeness of descriptions for a given disease. \"\"\"\n",
        "    completeness_definition = \"Completeness refers to the extent to which the provided descriptions cover all relevant aspects of a disease, focusing on aspects such as symptoms, descriptions, diagnostic information, and other key details.\"\n",
        "    prompt = f\"{completeness_definition}\\n\\nEvaluate the completeness of information for the disease '{disease}' based on the provided descriptions: {description}\"\n",
        "\n",
        "    try:\n",
        "        response = openai.Completion.create(\n",
        "            engine=\"gpt-3.5-turbo-instruct\",\n",
        "            prompt=prompt,\n",
        "            max_tokens=150,  # Adjusted to potentially provide a more complete response\n",
        "            temperature=0.3,\n",
        "            stop=[\".\"]\n",
        "        )\n",
        "        response_text = response.choices[0].text.strip()\n",
        "        response_words = len(response_text.split())\n",
        "        description_words = len(description.strip().split())\n",
        "        return response_words / max(1, description_words) if description_words > 0 else 0\n",
        "    except Exception as e:\n",
        "        print(f\"Error querying OpenAI: {e}\")\n",
        "        return 0\n",
        "\n",
        "def calculate_completeness(df, disease_column='subreddit', description_column='post'):\n",
        "    \"\"\" Calculate completeness scores for descriptions related to each disease. \"\"\"\n",
        "    completeness_scores = []\n",
        "    with tqdm(total=len(df), desc=\"Calculating Completeness\", unit=\"entry\") as pbar:\n",
        "        for _, row in df.iterrows():\n",
        "            disease = row[disease_column]\n",
        "            description = row[description_column]\n",
        "            completeness_score = evaluate_description_completeness(disease, description)\n",
        "            completeness_scores.append(completeness_score)\n",
        "            pbar.update(1)\n",
        "\n",
        "    return completeness_scores\n",
        "\n",
        "if __name__ == \"__main__\":\n",
        "    openai.api_key = 'sk-proj-Lx3kB1g9AEQfialY3RpDT3BlbkFJqu4Hk7yNmuebYzRUHPTj'  # Ensure this is set in your environment for security\n",
        "    dataset_path = '/content/MedRed_AMT_labels.csv'\n",
        "    df = load_data(dataset_path)\n",
        "\n",
        "    completeness_scores = calculate_completeness(df)\n",
        "    df['Completeness Score'] = completeness_scores\n",
        "    overall_completeness = sum(completeness_scores) / len(completeness_scores) if completeness_scores else 0\n",
        "\n",
        "    print(f\"Overall Completeness Score: {overall_completeness:.3f}\")\n"
      ],
      "metadata": {
        "colab": {
          "base_uri": "https://localhost:8080/"
        },
        "id": "w381F2GNZM38",
        "outputId": "a7dda3ff-4d70-4357-8ff7-aa4ff36e885d"
      },
      "execution_count": 15,
      "outputs": [
        {
          "output_type": "stream",
          "name": "stderr",
          "text": [
            "Calculating Completeness: 100%|██████████| 1976/1976 [18:59<00:00,  1.73entry/s]"
          ]
        },
        {
          "output_type": "stream",
          "name": "stdout",
          "text": [
            "Overall Completeness Score: 0.934\n"
          ]
        },
        {
          "output_type": "stream",
          "name": "stderr",
          "text": [
            "\n"
          ]
        }
      ]
    },
    {
      "cell_type": "code",
      "source": [
        "completeness_definition = \"Completeness refers to the extent to which the provided descriptions cover all relevant aspects of a disease, focusing on aspects such as symptoms, descriptions, diagnostic information, and other key details.\"\n",
        "print(\"completeness Defination:\", completeness_definition )"
      ],
      "metadata": {
        "colab": {
          "base_uri": "https://localhost:8080/"
        },
        "id": "RFK0Fkt7mab6",
        "outputId": "9c328571-d1a6-4cdd-efef-0fcb68fa1a53"
      },
      "execution_count": 19,
      "outputs": [
        {
          "output_type": "stream",
          "name": "stdout",
          "text": [
            "completeness Defination: Completeness refers to the extent to which the provided descriptions cover all relevant aspects of a disease, focusing on aspects such as symptoms, descriptions, diagnostic information, and other key details.\n"
          ]
        }
      ]
    },
    {
      "cell_type": "code",
      "execution_count": null,
      "metadata": {
        "colab": {
          "background_save": true
        },
        "id": "yvoElYZpg6qa",
        "outputId": "7b21681e-8200-4aaa-9212-986e1d84da6f"
      },
      "outputs": [
        {
          "name": "stdout",
          "output_type": "stream",
          "text": [
            "Average Comprehensiveness Score: 0.802068610305918\n"
          ]
        }
      ],
      "source": [
        "import pandas as pd\n",
        "import openai\n",
        "import time\n",
        "from requests.exceptions import ConnectionError, HTTPError\n",
        "\n",
        "# Set the OpenAI API key\n",
        "openai.api_key = 'sk-proj-FFgXXrjrERWxO4z2XsjAT3BlbkFJAa2ZiweUp6plh5Kioaav'\n",
        "\n",
        "# Load the dataset from a CSV file\n",
        "dataset_path = '/content/MedRed_AMT_labels.csv'\n",
        "df = pd.read_csv(dataset_path)\n",
        "\n",
        "def assess_comprehensiveness(disease_name, symptom_description, retries=3):\n",
        "    \"\"\" Assess the comprehensiveness of medical descriptions using ChatGPT with retry logic. \"\"\"\n",
        "    comprehensiveness_definition = \"comprehensiveness refers of disease  descriptions, including symptoms, diagnostic information, and other critical details to ensure a thorough understanding of each condition.\"\n",
        "    prompt = f\"{comprehensiveness_definition}\\n\\nEvaluate the comprehensiveness of the medical description for the disease '{disease_name}':\\n'{symptom_description}'\"\n",
        "    for attempt in range(retries):\n",
        "        try:\n",
        "            response = openai.Completion.create(\n",
        "                engine=\"gpt-3.5-turbo-instruct\",\n",
        "                prompt=prompt,\n",
        "                max_tokens=50,\n",
        "                temperature=0.6\n",
        "            )\n",
        "            response_text = response.choices[0].text.strip()\n",
        "            comprehensiveness_score = len(response_text)\n",
        "            return comprehensiveness_score\n",
        "        except (ConnectionError, HTTPError) as e:\n",
        "            print(f\"Attempt {attempt + 1} failed: {e}\")\n",
        "            time.sleep(2 ** attempt)  # Exponential backoff\n",
        "        except Exception as e:\n",
        "            print(f\"Error while assessing comprehensiveness: {e}\")\n",
        "            return None\n",
        "    return None  # Return None if all retries fail\n",
        "\n",
        "# Calculate and normalize comprehensiveness scores\n",
        "comprehensiveness_scores = []\n",
        "for index, row in df.iterrows():\n",
        "    score = assess_comprehensiveness(row['subreddit'], row['post'])\n",
        "    if score is not None:\n",
        "        comprehensiveness_scores.append(score)\n",
        "\n",
        "if comprehensiveness_scores:\n",
        "    max_score = max(comprehensiveness_scores)\n",
        "    normalized_scores = [score / max_score for score in comprehensiveness_scores]\n",
        "    average_comprehensiveness_score = sum(normalized_scores) / len(normalized_scores)\n",
        "    print(\"Average Comprehensiveness Score:\", average_comprehensiveness_score)\n",
        "else:\n",
        "    print(\"No comprehensiveness scores calculated or all retries failed.\")\n",
        "\n"
      ]
    },
    {
      "cell_type": "code",
      "source": [
        "comprehensiveness_definition = \"comprehensiveness refers of disease  descriptions, including symptoms, diagnostic information, and other critical details to ensure a thorough understanding of each condition.\"\n",
        "print(\"comprehensiveness_definition:\", comprehensiveness_definition)"
      ],
      "metadata": {
        "colab": {
          "base_uri": "https://localhost:8080/"
        },
        "id": "lag8DbM83F2z",
        "outputId": "ac45e108-b287-46a8-fc21-f73fa8d46633"
      },
      "execution_count": null,
      "outputs": [
        {
          "output_type": "stream",
          "name": "stdout",
          "text": [
            "comprehensiveness_definition: comprehensiveness refers of disease  descriptions, including symptoms, diagnostic information, and other critical details to ensure a thorough understanding of each condition.\n"
          ]
        }
      ]
    },
    {
      "cell_type": "markdown",
      "source": [
        "**Visualizations for calculated metrics**"
      ],
      "metadata": {
        "id": "N9AHZ60Un5Q-"
      }
    },
    {
      "cell_type": "code",
      "source": [
        "import matplotlib.pyplot as plt\n",
        "\n",
        "# Metrics values from the user\n",
        "metrics = {\n",
        "    'Correctness': 0.759,\n",
        "    'Uniqueness': 0.995,\n",
        "    'Comprehensiveness': 0.802,\n",
        "    'Completeness':0.934\n",
        "}\n",
        "\n",
        "# Plotting the metrics\n",
        "fig, ax = plt.subplots()\n",
        "ax.bar(metrics.keys(), metrics.values(), color=['blue', 'green', 'purple', 'red'])\n",
        "ax.set_title('Data Quality Metrics')\n",
        "ax.set_ylabel('Scores')\n",
        "ax.set_ylim(0, 1.1)  # Extend y-axis to fit labels\n",
        "for i, v in enumerate(metrics.values()):\n",
        "    ax.text(i, v + 0.02, f\"{v:.2f}\", ha='center', color='black')\n",
        "plt.show()"
      ],
      "metadata": {
        "colab": {
          "base_uri": "https://localhost:8080/",
          "height": 452
        },
        "id": "yQQvVCGmWqdX",
        "outputId": "9eafd03b-95e6-46f4-e763-7f3d30bb3bd0"
      },
      "execution_count": 20,
      "outputs": [
        {
          "output_type": "display_data",
          "data": {
            "text/plain": [
              "<Figure size 640x480 with 1 Axes>"
            ],
            "image/png": "[encoded data removed]"
          },
          "metadata": {}
        }
      ]
    },
    {
      "cell_type": "markdown",
      "metadata": {
        "id": "bEEsRmhE4J9N"
      },
      "source": [
        "**Improving Data quality metrics**"
      ]
    },
    {
      "cell_type": "code",
      "source": [
        "import pandas as pd\n",
        "import openai\n",
        "from scipy.spatial.distance import cosine\n",
        "from tqdm import tqdm  # Progress tracking\n",
        "\n",
        "# Assign your OpenAI API key\n",
        "openai.api_key = 'sk-proj-FFgXXrjrERWxO4z2XsjAT3BlbkFJAa2ZiweUp6plh5Kioaav'\n",
        "\n",
        "# Set the definition of correctness\n",
        "CORRECTNESS_DEFINITION = \"Correctness evaluates the semantic alignment between the provided symptoms and the associated disease name. A higher alignment score suggests better correctness.\"\n",
        "\n",
        "# Load the dataset\n",
        "df = pd.read_csv('/content/MedRed_AMT_labels.csv')  # Update path accordingly\n",
        "\n",
        "# Function to retrieve embeddings and calculate cosine similarity\n",
        "def check_and_correct_alignment(symptoms, disease_name, engine=\"text-embedding-ada-002\"):\n",
        "    try:\n",
        "        symptoms_emb = openai.Embedding.create(input=[symptoms], engine=engine)\n",
        "        disease_emb = openai.Embedding.create(input=[disease_name], engine=engine)\n",
        "        if symptoms_emb and disease_emb:\n",
        "            score = 1 - cosine(symptoms_emb['data'][0]['embedding'], disease_emb['data'][0]['embedding'])\n",
        "            if score < 1:\n",
        "                return False  # Indicates that the current alignment is not perfect\n",
        "            return True\n",
        "    except Exception as e:\n",
        "        print(f\"Error in embedding or similarity calculation: {e}\")\n",
        "        return False\n",
        "\n",
        "# Evaluate and correct records for perfect correctness\n",
        "for index, row in tqdm(df.iterrows(), total=len(df), desc=\"Evaluating and Correcting Entries\"):\n",
        "    if not check_and_correct_alignment(row['post'], row['subreddit']):\n",
        "        # Prompting model to suggest a more suitable term\n",
        "        prompt = f\"{CORRECTNESS_DEFINITION}\\n\\nGiven the symptoms '{row['post']}', what would be a more suitable disease name?\"\n",
        "        try:\n",
        "            result = openai.Completion.create(\n",
        "                model=\"gpt-3.5-turbo-instruct\",\n",
        "                prompt=prompt,\n",
        "                max_tokens=50,\n",
        "                temperature=0.3\n",
        "            )\n",
        "            new_disease_name = result.choices[0].text.strip()\n",
        "            df.loc[index, 'subreddit'] = new_disease_name  # Update the disease name in the dataframe\n",
        "        except Exception as e:\n",
        "            print(f\"Failed to correct entry: {e}\")\n",
        "\n",
        "# Save the updated dataframe to a new CSV file\n",
        "df.to_csv('/content/Updated_MedRed_AMT_labels.csv', index=False)\n",
        "\n",
        "print(\"Updated CSV file saved. All entries have been corrected for maximum correctness.\")\n"
      ],
      "metadata": {
        "colab": {
          "base_uri": "https://localhost:8080/"
        },
        "id": "PTzYupjK6jaJ",
        "outputId": "bda5ddbd-d184-47f1-b3f4-84ef39a3a690"
      },
      "execution_count": null,
      "outputs": [
        {
          "metadata": {
            "tags": null
          },
          "name": "stderr",
          "output_type": "stream",
          "text": [
            "Evaluating and Correcting Entries:  47%|████▋     | 932/1976 [13:23<10:17,  1.69it/s]"
          ]
        },
        {
          "metadata": {
            "tags": null
          },
          "name": "stdout",
          "output_type": "stream",
          "text": [
            "Error in embedding or similarity calculation: We could not parse the JSON body of your request. (HINT: This likely means you aren't using your HTTP library correctly. The OpenAI API expects a JSON payload, but what was sent was not valid JSON. If you have trouble figuring out how to fix this, please contact us through our help center at help.openai.com.)\n"
          ]
        },
        {
          "output_type": "stream",
          "name": "stderr",
          "text": [
            "Evaluating and Correcting Entries: 100%|██████████| 1976/1976 [27:07<00:00,  1.21it/s]"
          ]
        },
        {
          "output_type": "stream",
          "name": "stdout",
          "text": [
            "Updated CSV file saved. All entries have been corrected for maximum correctness.\n"
          ]
        },
        {
          "output_type": "stream",
          "name": "stderr",
          "text": [
            "\n"
          ]
        }
      ]
    },
    {
      "cell_type": "code",
      "source": [
        "import pandas as pd\n",
        "import openai\n",
        "from scipy.spatial.distance import cosine\n",
        "from tqdm import tqdm  # Progress tracking\n",
        "\n",
        "# Assign your OpenAI API key\n",
        "openai.api_key = 'sk-proj-FFgXXrjrERWxO4z2XsjAT3BlbkFJAa2ZiweUp6plh5Kioaav'\n",
        "\n",
        "# Set the definition of correctness\n",
        "CORRECTNESS_DEFINITION = \"Correctness evaluates the semantic alignment between the provided symptoms and the associated disease name. A higher alignment score suggests better correctness.\"\n",
        "\n",
        "# Load the dataset\n",
        "df = pd.read_csv('/content/Updated_MedRed_AMT_labels.csv')  # Update path accordingly\n",
        "\n",
        "# Function to retrieve embeddings from a list of text items\n",
        "def fetch_embeddings(texts, engine=\"text-embedding-ada-002\"):\n",
        "    try:\n",
        "        result = openai.Embedding.create(input=texts, engine=engine)\n",
        "        return [item['embedding'] for item in result['data']]\n",
        "    except Exception as e:\n",
        "        print(f\"Failed to fetch embeddings: {e}\")\n",
        "        return [None] * len(texts)\n",
        "\n",
        "# Function to check the contextual relevance of descriptions to diseases\n",
        "def context_relevance_check(symptoms, disease_name):\n",
        "    try:\n",
        "        result = openai.Completion.create(\n",
        "            model=\"gpt-3.5-turbo-instruct\",\n",
        "            prompt=f\"{CORRECTNESS_DEFINITION}\\n\\nDoes the term '{disease_name}' relate contextually to the described symptoms '{symptoms}'? If not, provide a more suitable term.\",\n",
        "            max_tokens=50,\n",
        "            temperature=0.3\n",
        "        )\n",
        "        return result.choices[0].text.strip()\n",
        "    except Exception as e:\n",
        "        print(f\"Context check failed: {e}\")\n",
        "        return \"Error\"\n",
        "\n",
        "# Evaluate correctness for each record in the dataset\n",
        "correctness_scores = []\n",
        "for _, entry in tqdm(df.iterrows(), total=len(df), desc=\"Evaluating correctness\"):\n",
        "    suitable_term = context_relevance_check(entry['subreddit'], entry['post'])\n",
        "    symptoms_emb = fetch_embeddings([entry['subreddit']])\n",
        "    disease_emb = fetch_embeddings([entry['post']])\n",
        "    if symptoms_emb[0] and disease_emb[0]:\n",
        "        score = 1 - cosine(symptoms_emb[0], disease_emb[0])\n",
        "        correctness_scores.append(score)\n",
        "    else:\n",
        "        correctness_scores.append(None)\n",
        "\n",
        "# Compute the average correctness score\n",
        "valid_scores = [score for score in correctness_scores if score is not None]\n",
        "average_correctness = sum(valid_scores) / len(valid_scores) if valid_scores else 0\n",
        "\n",
        "# Output the correctness score and definition\n",
        "print(f\"Correctness Definition: {CORRECTNESS_DEFINITION}\")\n",
        "print(f\"Average Correctness Score: {round(average_correctness, 4)}\")\n"
      ],
      "metadata": {
        "colab": {
          "base_uri": "https://localhost:8080/"
        },
        "id": "hETn5ar7BieG",
        "outputId": "2bba3688-2e12-4a70-aa3d-d8b28859b595"
      },
      "execution_count": null,
      "outputs": [
        {
          "output_type": "stream",
          "name": "stderr",
          "text": [
            "Evaluating correctness:  47%|████▋     | 933/1976 [17:50<18:34,  1.07s/it]"
          ]
        },
        {
          "output_type": "stream",
          "name": "stdout",
          "text": [
            "Failed to fetch embeddings: We could not parse the JSON body of your request. (HINT: This likely means you aren't using your HTTP library correctly. The OpenAI API expects a JSON payload, but what was sent was not valid JSON. If you have trouble figuring out how to fix this, please contact us through our help center at help.openai.com.)\n"
          ]
        },
        {
          "output_type": "stream",
          "name": "stderr",
          "text": [
            "Evaluating correctness: 100%|██████████| 1976/1976 [35:37<00:00,  1.08s/it]"
          ]
        },
        {
          "output_type": "stream",
          "name": "stdout",
          "text": [
            "Correctness Definition: Correctness evaluates the semantic alignment between the provided symptoms and the associated disease name. A higher alignment score suggests better correctness.\n",
            "Average Correctness Score: 0.7768\n"
          ]
        },
        {
          "output_type": "stream",
          "name": "stderr",
          "text": [
            "\n"
          ]
        }
      ]
    }
  ],
  "metadata": {
    "colab": {
      "provenance": [],
      "authorship_tag": "ABX9TyPrGl4B4zzJqx+BD4wUNox8",
      "include_colab_link": true
    },
    "kernelspec": {
      "display_name": "Python 3",
      "name": "python3"
    },
    "language_info": {
      "name": "python"
    }
  },
  "nbformat": 4,
  "nbformat_minor": 0
}